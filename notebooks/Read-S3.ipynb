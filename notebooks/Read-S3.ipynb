{
 "cells": [
  {
   "cell_type": "code",
   "execution_count": 47,
   "id": "5964ce5c",
   "metadata": {},
   "outputs": [],
   "source": [
    "import numpy as np\n",
    "import matplotlib.pyplot as plt\n",
    "%matplotlib inline\n",
    "import sys\n",
    "sys.path.append(\"../\")\n",
    "import boto3\n",
    "\n",
    "\n",
    "from solardatatools import DataHandler, get_pvdaq_data"
   ]
  },
  {
   "cell_type": "code",
   "execution_count": 48,
   "id": "7644e2f1",
   "metadata": {},
   "outputs": [],
   "source": [
    "\"\"\"\n",
    "Demo script for reading a CSV file from S3 into a pandas data frame using the boto3 library\n",
    "\"\"\"\n",
    "\n",
    "import os\n",
    "\n",
    "import boto3\n",
    "import pandas as pd\n",
    "\n",
    "from dotenv import load_dotenv\n",
    "load_dotenv()\n",
    "\n",
    "AWS_S3_BUCKET = os.getenv(\"AWS_S3_BUCKET\")\n",
    "AWS_ACCESS_KEY_ID = os.getenv(\"AWS_ACCESS_KEY_ID\")\n",
    "AWS_SECRET_ACCESS_KEY = os.getenv(\"AWS_SECRET_ACCESS_KEY\")\n",

    "s3_client = boto3.client(\n",
    "    \"s3\",\n",
    "    aws_access_key_id=AWS_ACCESS_KEY_ID,\n",
    "    aws_secret_access_key=AWS_SECRET_ACCESS_KEY,\n",
    "    #aws_session_token=AWS_SESSION_TOKEN,\n",
    ")\n",
    "\n"
   ]
  },
  {
   "cell_type": "code",
   "execution_count": 76,
   "id": "e0126c38",
   "metadata": {},
   "outputs": [],
   "source": [
    "def read_csv_from_s3_meta(\n",
    "    bucket_name=None,\n",
    "    path=None,\n",
    "    ):\n",
    "    print(bucket_name,path)\n",
    "    if bucket_name is None or path is None:\n",
    "        print(\"no bucket name or path\")\n",
    "        return\n",
    "    \n",
    "    response = s3_client.get_object(Bucket=bucket_name, Key=path)\n",
    "\n",
    "    status = response.get(\"ResponseMetadata\", {}).get(\"HTTPStatusCode\")\n",
    "\n",
    "    if status == 200:\n",
    "        print(f\"Successful S3 get_object response. Status - {status}\")\n",
    "        result_df = pd.read_csv(response.get(\"Body\"))\n",
    "    else:\n",
    "        print(f\"Unsuccessful S3 get_object response. Status - {status}\")\n",
    "    return result_df"
   ]
  },
  {
   "cell_type": "code",
   "execution_count": 82,
   "id": "a2c897af",
   "metadata": {},
   "outputs": [],
   "source": [
    "def read_csv_from_s3_pvo(\n",
    "    bucket_name=None,\n",
    "    path=None,\n",
    "    index_col=0,\n",
    "    parse_dates=[0],\n",
    "    usecols=[1, 3]\n",
    "    ):\n",
    "    print(bucket_name,path)\n",
    "    if bucket_name is None or path is None:\n",
    "        print(\"no bucket name or path\")\n",
    "        return\n",
    "    \n",
    "    response = s3_client.get_object(Bucket=bucket_name, Key=path)\n",
    "\n",
    "    status = response.get(\"ResponseMetadata\", {}).get(\"HTTPStatusCode\")\n",
    "\n",
    "    if status == 200:\n",
    "        print(f\"Successful S3 get_object response. Status - {status}\")\n",
    "        result_df = pd.read_csv(response.get(\"Body\"),\n",
    "                                index_col=index_col,\n",
    "                                parse_dates=parse_dates,\n",
    "                                usecols=usecols)\n",
    "    else:\n",
    "        print(f\"Unsuccessful S3 get_object response. Status - {status}\")\n",
    "    return result_df"
   ]
  },
  {
   "cell_type": "code",
   "execution_count": 94,
   "id": "9a27d901",
   "metadata": {},
   "outputs": [
    {
     "name": "stdout",
     "output_type": "stream",
     "text": [
      "pv.insight.nrel PVO/sys_meta.csv\n",
      "Successful S3 get_object response. Status - 200\n",
      "0       1095\n",
      "1       1384\n",
      "2       1421\n",
      "3       1519\n",
      "4       1533\n",
      "       ...  \n",
      "568    46375\n",
      "569    46407\n",
      "570    46520\n",
      "571    46548\n",
      "572    46717\n",
      "Name: ID, Length: 573, dtype: int64\n"
     ]
    }
   ],
   "source": [
    "metadata_fn=\"PVO/sys_meta.csv\"\n",
    "meta_df = read_csv_from_s3_meta(AWS_S3_BUCKET,metadata_fn)\n",
    "data_fn_pattern=\"PVO/PVOutput/{}.csv\"\n",
    "index_col=0\n",
    "parse_dates=[0]\n",
    "usecols=[1, 3]\n",
    "fix_dst=True\n",
    "tz_column=\"TimeZone\"\n",
    "id_column=\"ID\"\n",
    "verbose=True\n",
    "file_index=0\n",
    "print(meta_df['ID'])"
   ]
  },
  {
   "cell_type": "code",
   "execution_count": 84,
   "id": "c3b17407",
   "metadata": {},
   "outputs": [
    {
     "name": "stdout",
     "output_type": "stream",
     "text": [
      "1095\n"
     ]
    }
   ],
   "source": [
    " id_num = meta_df[id_column][file_index]\n",
    "print(id_num)"
   ]
  },
  {
   "cell_type": "code",
   "execution_count": null,
   "id": "c973c460",
   "metadata": {},
   "outputs": [],
   "source": [
    "# get specific file "
   ]
  },
  {
   "cell_type": "code",
   "execution_count": 99,
   "id": "23c83fef",
   "metadata": {},
   "outputs": [
    {
     "name": "stdout",
     "output_type": "stream",
     "text": [
      "pv.insight.nrel PVO/PVOutput/1095.csv\n",
      "Successful S3 get_object response. Status - 200\n"
     ]
    }
   ],
   "source": [
    "\n",
    "df = read_csv_from_s3_pvo(AWS_S3_BUCKET,data_fn_pattern.format(id_num))\n",
    "#df = read_csv_from_s3_meta(AWS_S3_BUCKET,data_fn_pattern.format(id_num))"
   ]
  },
  {
   "cell_type": "code",
   "execution_count": 103,
   "id": "c14b0919",
   "metadata": {},
   "outputs": [
    {
     "data": {
      "text/html": [
       "<div>\n",
       "<style scoped>\n",
       "    .dataframe tbody tr th:only-of-type {\n",
       "        vertical-align: middle;\n",
       "    }\n",
       "\n",
       "    .dataframe tbody tr th {\n",
       "        vertical-align: top;\n",
       "    }\n",
       "\n",
       "    .dataframe thead th {\n",
       "        text-align: right;\n",
       "    }\n",
       "</style>\n",
       "<table border=\"1\" class=\"dataframe\">\n",
       "  <thead>\n",
       "    <tr style=\"text-align: right;\">\n",
       "      <th></th>\n",
       "      <th>Power(W)</th>\n",
       "    </tr>\n",
       "    <tr>\n",
       "      <th>Time</th>\n",
       "      <th></th>\n",
       "    </tr>\n",
       "  </thead>\n",
       "  <tbody>\n",
       "    <tr>\n",
       "      <th>2011-08-05 06:20:00</th>\n",
       "      <td>1</td>\n",
       "    </tr>\n",
       "    <tr>\n",
       "      <th>2011-08-05 06:30:00</th>\n",
       "      <td>1</td>\n",
       "    </tr>\n",
       "    <tr>\n",
       "      <th>2011-08-05 06:35:00</th>\n",
       "      <td>1</td>\n",
       "    </tr>\n",
       "    <tr>\n",
       "      <th>2011-08-05 06:45:00</th>\n",
       "      <td>1</td>\n",
       "    </tr>\n",
       "    <tr>\n",
       "      <th>2011-08-05 06:50:00</th>\n",
       "      <td>1</td>\n",
       "    </tr>\n",
       "  </tbody>\n",
       "</table>\n",
       "</div>"
      ],
      "text/plain": [
       "                     Power(W)\n",
       "Time                         \n",
       "2011-08-05 06:20:00         1\n",
       "2011-08-05 06:30:00         1\n",
       "2011-08-05 06:35:00         1\n",
       "2011-08-05 06:45:00         1\n",
       "2011-08-05 06:50:00         1"
      ]
     },
     "execution_count": 103,
     "metadata": {},
     "output_type": "execute_result"
    }
   ],
   "source": [
    "df.head()"
   ]
  },
  {
   "cell_type": "code",
   "execution_count": 104,
   "id": "91ff3bdd",
   "metadata": {},
   "outputs": [],
   "source": [
    "dh = DataHandler(df)\n"
   ]
  },
  {
   "cell_type": "code",
   "execution_count": 107,
   "id": "30796aad",
   "metadata": {},
   "outputs": [
    {
     "name": "stdout",
     "output_type": "stream",
     "text": [
      "CAUTION: Multiple scan rates detected!\n",
      "Scan rates (in seconds): [300, 600]\n",
      "0 transitions detected.\n",
      "Suggest splitting data set between:\n",
      "\n",
      "\n",
      "total time: 13.52 seconds\n",
      "--------------------------------\n",
      "Breakdown\n",
      "--------------------------------\n",
      "Preprocessing              2.08s\n",
      "Cleaning                   10.47s\n",
      "Filtering/Summarizing      0.97s\n",
      "    Data quality           0.15s\n",
      "    Clear day detect       0.14s\n",
      "    Clipping detect        0.03s\n",
      "    Capacity change detect 0.64s\n",
      "\n"
     ]
    }
   ],
   "source": [
    "dh.run_pipeline(power_col='Power(W)')"
   ]
  },
  {
   "cell_type": "code",
   "execution_count": 108,
   "id": "33146aa3",
   "metadata": {},
   "outputs": [
    {
     "name": "stdout",
     "output_type": "stream",
     "text": [
      "Length:                5.99 years\n",
      "Capacity estimate:     1.60 kW\n",
      "Data sampling:         5 minute\n",
      "Data quality score:    78.7%\n",
      "Data clearness score:  19.1%\n",
      "Inverter clipping:     False\n",
      "Time shifts corrected: True\n",
      "Time zone correction:  None\n"
     ]
    }
   ],
   "source": [
    "dh.report()"
   ]
  },
  {
   "cell_type": "code",
   "execution_count": 30,
   "id": "6a7b1117",
   "metadata": {},
   "outputs": [
    {
     "name": "stdout",
     "output_type": "stream",
     "text": [
      "PVOutput/1095.csv\n"
     ]
    }
   ],
   "source": [
    "file = data_fn_pattern.format(id_num)\n",
    "print(file)"
   ]
  },
  {
   "cell_type": "code",
   "execution_count": 88,
   "id": "709bd5a0",
   "metadata": {},
   "outputs": [
    {
     "name": "stdout",
     "output_type": "stream",
     "text": [
      "index: 0; system ID: 1095\n"
     ]
    }
   ],
   "source": []
  },
  {
   "cell_type": "code",
   "execution_count": null,
   "id": "f185738c",
   "metadata": {},
   "outputs": [],
   "source": []
  }
 ],
 "metadata": {
  "kernelspec": {
   "display_name": "Python 3 (ipykernel)",
   "language": "python",
   "name": "python3"
  },
  "language_info": {
   "codemirror_mode": {
    "name": "ipython",
    "version": 3
   },
   "file_extension": ".py",
   "mimetype": "text/x-python",
   "name": "python",
   "nbconvert_exporter": "python",
   "pygments_lexer": "ipython3",
   "version": "3.7.12"
  }
 },
 "nbformat": 4,
 "nbformat_minor": 5
}
